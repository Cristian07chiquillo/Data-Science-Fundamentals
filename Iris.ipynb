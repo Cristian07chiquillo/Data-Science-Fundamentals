{
 "cells": [
  {
   "cell_type": "markdown",
   "id": "c7db92b9-0f00-4c69-9f07-844775d1dd53",
   "metadata": {},
   "source": [
    "# Iris Flower"
   ]
  },
  {
   "cell_type": "markdown",
   "id": "39879d4f-2149-4e5f-b22f-bd97738a025c",
   "metadata": {},
   "source": [
    "The data set consists of 150 samples from different species of Iris flower."
   ]
  },
  {
   "cell_type": "markdown",
   "id": "aecde73b-f552-44ed-9b26-10d9ba14ab9c",
   "metadata": {
    "jp-MarkdownHeadingCollapsed": true
   },
   "source": [
    "### Import libraries for this project."
   ]
  },
  {
   "cell_type": "code",
   "execution_count": 72,
   "id": "a18e6b76-6979-4e01-9681-702ea10d5f5b",
   "metadata": {},
   "outputs": [],
   "source": [
    "# Libraries\n",
    "# Data processing\n",
    "import pandas as pd\n",
    "import numpy as np\n",
    "\n",
    "# Split Data \n",
    "from sklearn.model_selection import train_test_split\n",
    "\n",
    "# Models\n",
    "from sklearn.linear_model import LogisticRegression\n",
    "from sklearn.svm import SVC\n",
    "from sklearn.tree import DecisionTreeClassifier\n",
    "\n",
    "# Metrics\n",
    "from sklearn.metrics import accuracy_score, confusion_matrix, classification_report, precision_score,recall_score,f1_score\n",
    "from sklearn.model_selection import cross_val_score\n",
    "# Graphics\n",
    "import seaborn as sns\n",
    "import matplotlib.pyplot as plt"
   ]
  },
  {
   "cell_type": "markdown",
   "id": "4631af70-e010-4e06-8c74-5073c3579e56",
   "metadata": {
    "jp-MarkdownHeadingCollapsed": true
   },
   "source": [
    "## 1. Data Collection"
   ]
  },
  {
   "cell_type": "code",
   "execution_count": 58,
   "id": "0d201c53-a938-425a-9bb9-47bd335f6830",
   "metadata": {},
   "outputs": [],
   "source": [
    "# Iris Data\n",
    "df = pd.read_csv(\"Iris.csv\")"
   ]
  },
  {
   "cell_type": "markdown",
   "id": "d9a13828-53a3-437f-8e7a-1137c5add94f",
   "metadata": {
    "jp-MarkdownHeadingCollapsed": true
   },
   "source": [
    "## 2. Data Understanding."
   ]
  },
  {
   "cell_type": "code",
   "execution_count": 61,
   "id": "fffe1fbe-761d-40f8-9b74-289d3c80ef99",
   "metadata": {},
   "outputs": [
    {
     "name": "stdout",
     "output_type": "stream",
     "text": [
      "This dataframe has 150 rows and 6 columns.\n"
     ]
    }
   ],
   "source": [
    "# Size\n",
    "print(f\"This dataframe has {df.shape[0]} rows and {df.shape[1]} columns.\")\n",
    "columns_name = [df.columns]"
   ]
  },
  {
   "cell_type": "code",
   "execution_count": 62,
   "id": "e3171b80-f87e-4399-b118-229b2c3d93b0",
   "metadata": {},
   "outputs": [
    {
     "name": "stdout",
     "output_type": "stream",
     "text": [
      "<class 'pandas.core.frame.DataFrame'>\n",
      "RangeIndex: 150 entries, 0 to 149\n",
      "Data columns (total 6 columns):\n",
      " #   Column         Non-Null Count  Dtype  \n",
      "---  ------         --------------  -----  \n",
      " 0   Id             150 non-null    int64  \n",
      " 1   SepalLengthCm  150 non-null    float64\n",
      " 2   SepalWidthCm   150 non-null    float64\n",
      " 3   PetalLengthCm  150 non-null    float64\n",
      " 4   PetalWidthCm   150 non-null    float64\n",
      " 5   Species        150 non-null    object \n",
      "dtypes: float64(4), int64(1), object(1)\n",
      "memory usage: 7.2+ KB\n"
     ]
    }
   ],
   "source": [
    "# Basic Information\n",
    "# Additionally, you can check if any null values exist. In this case, you have to remove that using \"df.dropna(inplace=True)\".\n",
    "df.info()"
   ]
  },
  {
   "cell_type": "code",
   "execution_count": 63,
   "id": "31cdeb8d-4f71-405a-af2c-da43a2a65f92",
   "metadata": {},
   "outputs": [
    {
     "data": {
      "text/html": [
       "<div>\n",
       "<style scoped>\n",
       "    .dataframe tbody tr th:only-of-type {\n",
       "        vertical-align: middle;\n",
       "    }\n",
       "\n",
       "    .dataframe tbody tr th {\n",
       "        vertical-align: top;\n",
       "    }\n",
       "\n",
       "    .dataframe thead th {\n",
       "        text-align: right;\n",
       "    }\n",
       "</style>\n",
       "<table border=\"1\" class=\"dataframe\">\n",
       "  <thead>\n",
       "    <tr style=\"text-align: right;\">\n",
       "      <th></th>\n",
       "      <th>Id</th>\n",
       "      <th>SepalLengthCm</th>\n",
       "      <th>SepalWidthCm</th>\n",
       "      <th>PetalLengthCm</th>\n",
       "      <th>PetalWidthCm</th>\n",
       "      <th>Species</th>\n",
       "    </tr>\n",
       "  </thead>\n",
       "  <tbody>\n",
       "    <tr>\n",
       "      <th>0</th>\n",
       "      <td>1</td>\n",
       "      <td>5.1</td>\n",
       "      <td>3.5</td>\n",
       "      <td>1.4</td>\n",
       "      <td>0.2</td>\n",
       "      <td>Iris-setosa</td>\n",
       "    </tr>\n",
       "    <tr>\n",
       "      <th>1</th>\n",
       "      <td>2</td>\n",
       "      <td>4.9</td>\n",
       "      <td>3.0</td>\n",
       "      <td>1.4</td>\n",
       "      <td>0.2</td>\n",
       "      <td>Iris-setosa</td>\n",
       "    </tr>\n",
       "    <tr>\n",
       "      <th>2</th>\n",
       "      <td>3</td>\n",
       "      <td>4.7</td>\n",
       "      <td>3.2</td>\n",
       "      <td>1.3</td>\n",
       "      <td>0.2</td>\n",
       "      <td>Iris-setosa</td>\n",
       "    </tr>\n",
       "    <tr>\n",
       "      <th>3</th>\n",
       "      <td>4</td>\n",
       "      <td>4.6</td>\n",
       "      <td>3.1</td>\n",
       "      <td>1.5</td>\n",
       "      <td>0.2</td>\n",
       "      <td>Iris-setosa</td>\n",
       "    </tr>\n",
       "    <tr>\n",
       "      <th>4</th>\n",
       "      <td>5</td>\n",
       "      <td>5.0</td>\n",
       "      <td>3.6</td>\n",
       "      <td>1.4</td>\n",
       "      <td>0.2</td>\n",
       "      <td>Iris-setosa</td>\n",
       "    </tr>\n",
       "  </tbody>\n",
       "</table>\n",
       "</div>"
      ],
      "text/plain": [
       "   Id  SepalLengthCm  SepalWidthCm  PetalLengthCm  PetalWidthCm      Species\n",
       "0   1            5.1           3.5            1.4           0.2  Iris-setosa\n",
       "1   2            4.9           3.0            1.4           0.2  Iris-setosa\n",
       "2   3            4.7           3.2            1.3           0.2  Iris-setosa\n",
       "3   4            4.6           3.1            1.5           0.2  Iris-setosa\n",
       "4   5            5.0           3.6            1.4           0.2  Iris-setosa"
      ]
     },
     "execution_count": 63,
     "metadata": {},
     "output_type": "execute_result"
    }
   ],
   "source": [
    "# This is the structure of the data frame.\n",
    "df.head()"
   ]
  },
  {
   "cell_type": "markdown",
   "id": "2bdd6508-fc1d-4cd7-95a7-2b5278d785d1",
   "metadata": {
    "jp-MarkdownHeadingCollapsed": true
   },
   "source": [
    "## 3. Data Preparation"
   ]
  },
  {
   "cell_type": "markdown",
   "id": "58dcc4ce-c99d-47b6-90f5-f60b1919ae1c",
   "metadata": {},
   "source": [
    "### Divide data in \"x\" and \"y\"."
   ]
  },
  {
   "cell_type": "code",
   "execution_count": 64,
   "id": "d5a03994-9973-4e92-867a-8eecae104d35",
   "metadata": {},
   "outputs": [],
   "source": [
    "x = df.drop(columns=['Species','Id'])# Entrada\n",
    "y = df['Species'] # Objetivo"
   ]
  },
  {
   "cell_type": "code",
   "execution_count": 74,
   "id": "34fc6b6f-160e-421d-a3c1-b746d9620084",
   "metadata": {},
   "outputs": [],
   "source": [
    "sample_size = 0.2\n",
    "x_train, x_test, y_train, y_test = train_test_split(x,y,test_size = sample_size, random_state = 42)"
   ]
  },
  {
   "cell_type": "markdown",
   "id": "ff6f8604-30b9-48f3-bb16-36cd35880223",
   "metadata": {
    "jp-MarkdownHeadingCollapsed": true
   },
   "source": [
    "## 4. Modelling and Evaluation"
   ]
  },
  {
   "cell_type": "code",
   "execution_count": 89,
   "id": "5b35349c-6cf3-4c02-b3f3-78ec739838e9",
   "metadata": {},
   "outputs": [],
   "source": [
    "models = {\n",
    "    'Regresión Logistica': LogisticRegression(max_iter=200),\n",
    "    'Máquinas de Soporte Vectorial': SVC(),\n",
    "    'Árbol de Desición': DecisionTreeClassifier()\n",
    "}"
   ]
  },
  {
   "cell_type": "markdown",
   "id": "61ba91f0-5cb7-48e8-aa0a-a18b47210935",
   "metadata": {},
   "source": [
    "### **Métricas de Rendimiento**\n",
    "\n",
    "Las métricas de rendimiento, también conocidas como métricas de error, nos dan una medida cuantitativa de qué tan bien un modelo puede hacer predicciones en comparación con la realidad. Hay varias métricas de rendimiento, y la elección de la métrica correcta depende en gran medida del tipo de tarea y del objetivo comercial.\n",
    "\n",
    "*   Precisión\n",
    "\n",
    "En el contexto de la clasificación, la precisión es la proporción de predicciones correctas entre el número total de predicciones. Aunque puede ser útil, la precisión puede ser una métrica engañosa, especialmente en conjuntos de datos desequilibrados.\n",
    "\n",
    "*   Recall\n",
    "\n",
    "También conocida como sensibilidad, es la capacidad de un modelo para encontrar todos los casos relevantes dentro de un conjunto de datos.\n",
    "\n",
    "*   F1-SCORE\n",
    "\n",
    "Es una medida que combina precisión y recall en un solo número. Es la media armónica de precisión y recall y da un equilibrio entre ambas métricas.\n",
    "\n",
    "*   Validación Cruzada\n",
    "\n",
    "La validación cruzada es una técnica de evaluación del modelo que es mejor que la reserva de una proporción del conjunto de datos para validar el modelo (validación simple) ya que utiliza todo el conjunto de datos en el proceso de entrenamiento para garantizar una evaluación robusta del modelo. En la validación cruzada, el conjunto de datos se divide en 'k' subconjuntos. Cada vez, se utiliza un subconjunto diferente como conjunto de prueba y los restantes 'k-1' subconjuntos se utilizan para entrenar el modelo. El proceso se repite 'k' veces, de forma que cada subconjunto se utiliza una vez como conjunto de prueba. Luego se toma la media de los resultados de la evaluación del modelo.\n",
    "\n",
    "*   Matriz de Confusión\n",
    "\n",
    "Una matriz de confusión es una tabla que se utiliza para describir el rendimiento de un modelo de clasificación en un conjunto de datos para los que se conocen los verdaderos valores. La matriz de confusión divide las predicciones en cuatro términos: Verdaderos Positivos (VP), Verdaderos Negativos (VN), Falsos Positivos (FP) y Falsos Negativos (FN). Estos términos se utilizan luego para calcular métricas más complejas, como precisión, recall, F1-score y AUC-ROC.\n",
    "\n",
    "\n",
    "**Para problemas de regresión, se utilizan métricas como el error cuadrático medio (MSE), el error absoluto medio (MAE) y el coeficiente de determinación R².**\n"
   ]
  },
  {
   "cell_type": "code",
   "execution_count": 93,
   "id": "56807a84-a679-499c-a70b-7f27943fa735",
   "metadata": {},
   "outputs": [
    {
     "data": {
      "image/png": "[encoded data removed]",
      "text/plain": [
       "<Figure size 640x480 with 2 Axes>"
      ]
     },
     "metadata": {},
     "output_type": "display_data"
    },
    {
     "name": "stdout",
     "output_type": "stream",
     "text": [
      "                 precision    recall  f1-score   support\n",
      "\n",
      "    Iris-setosa       1.00      1.00      1.00        10\n",
      "Iris-versicolor       1.00      1.00      1.00         9\n",
      " Iris-virginica       1.00      1.00      1.00        11\n",
      "\n",
      "       accuracy                           1.00        30\n",
      "      macro avg       1.00      1.00      1.00        30\n",
      "   weighted avg       1.00      1.00      1.00        30\n",
      "\n",
      "Validación Cruzada (5-folds): 0.9733333333333334\n"
     ]
    },
    {
     "data": {
      "image/png": "[encoded data removed]",
      "text/plain": [
       "<Figure size 640x480 with 2 Axes>"
      ]
     },
     "metadata": {},
     "output_type": "display_data"
    },
    {
     "name": "stdout",
     "output_type": "stream",
     "text": [
      "                 precision    recall  f1-score   support\n",
      "\n",
      "    Iris-setosa       1.00      1.00      1.00        10\n",
      "Iris-versicolor       1.00      1.00      1.00         9\n",
      " Iris-virginica       1.00      1.00      1.00        11\n",
      "\n",
      "       accuracy                           1.00        30\n",
      "      macro avg       1.00      1.00      1.00        30\n",
      "   weighted avg       1.00      1.00      1.00        30\n",
      "\n",
      "Validación Cruzada (5-folds): 0.9666666666666666\n"
     ]
    },
    {
     "data": {
      "image/png": "[encoded data removed]",
      "text/plain": [
       "<Figure size 640x480 with 2 Axes>"
      ]
     },
     "metadata": {},
     "output_type": "display_data"
    },
    {
     "name": "stdout",
     "output_type": "stream",
     "text": [
      "                 precision    recall  f1-score   support\n",
      "\n",
      "    Iris-setosa       1.00      1.00      1.00        10\n",
      "Iris-versicolor       1.00      1.00      1.00         9\n",
      " Iris-virginica       1.00      1.00      1.00        11\n",
      "\n",
      "       accuracy                           1.00        30\n",
      "      macro avg       1.00      1.00      1.00        30\n",
      "   weighted avg       1.00      1.00      1.00        30\n",
      "\n",
      "Validación Cruzada (5-folds): 0.9666666666666668\n"
     ]
    }
   ],
   "source": [
    "for name, model in models.items():\n",
    "    # Training\n",
    "    model.fit(x_train, y_train)\n",
    "    \n",
    "    # Predictions\n",
    "    y_pred = model.predict(x_test)\n",
    "\n",
    "    # Métricas de rendimiento\n",
    "   \n",
    "    # Métrica más robusta de medición del modelo\n",
    "    cross_val = cross_val_score(model,x , y, cv=5)\n",
    "    \n",
    "    # Creación de la matriz de confusión\n",
    "    conf_matrix = confusion_matrix(y_test, y_pred)\n",
    "    sns.heatmap(conf_matrix,annot=True)\n",
    "    plt.title(f'Matriz de Confusión - {name}')\n",
    "    plt.show()\n",
    "\n",
    "    print(classification_report(y_test,y_pred))\n",
    "    print(f'Validación Cruzada (5-folds): {cross_val.mean()}')\n",
    "\n",
    "    "
   ]
  }
 ],
 "metadata": {
  "kernelspec": {
   "display_name": "Python 3 (ipykernel)",
   "language": "python",
   "name": "python3"
  },
  "language_info": {
   "codemirror_mode": {
    "name": "ipython",
    "version": 3
   },
   "file_extension": ".py",
   "mimetype": "text/x-python",
   "name": "python",
   "nbconvert_exporter": "python",
   "pygments_lexer": "ipython3",
   "version": "3.12.1"
  }
 },
 "nbformat": 4,
 "nbformat_minor": 5
}
